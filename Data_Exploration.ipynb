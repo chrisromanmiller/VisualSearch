{
 "cells": [
  {
   "cell_type": "code",
   "execution_count": 3,
   "id": "fac82b82",
   "metadata": {},
   "outputs": [
    {
     "name": "stderr",
     "output_type": "stream",
     "text": [
      "/Users/chiara/opt/anaconda3/envs/myenv/lib/python3.10/site-packages/tqdm/auto.py:21: TqdmWarning: IProgress not found. Please update jupyter and ipywidgets. See https://ipywidgets.readthedocs.io/en/stable/user_install.html\n",
      "  from .autonotebook import tqdm as notebook_tqdm\n",
      "/Users/chiara/opt/anaconda3/envs/myenv/lib/python3.10/site-packages/torchvision/io/image.py:13: UserWarning: Failed to load image Python extension: 'dlopen(/Users/chiara/opt/anaconda3/envs/myenv/lib/python3.10/site-packages/torchvision/image.so, 0x0006): Symbol not found: __ZN3c106detail19maybe_wrap_dim_slowIxEET_S2_S2_b\n",
      "  Referenced from: /Users/chiara/opt/anaconda3/envs/myenv/lib/python3.10/site-packages/torchvision/image.so\n",
      "  Expected in: /Users/chiara/opt/anaconda3/envs/myenv/lib/python3.10/site-packages/torch/lib/libc10.dylib'If you don't plan on using image functionality from `torchvision.io`, you can ignore this warning. Otherwise, there might be something wrong with your environment. Did you have `libjpeg` or `libpng` installed before building `torchvision` from source?\n",
      "  warn(\n"
     ]
    }
   ],
   "source": [
    "import pandas as pd\n",
    "import matplotlib.pyplot as plt\n",
    "import os\n",
    "import numpy as np\n",
    "import torch\n",
    "from torchvision import models, transforms\n",
    "from PIL import Image\n",
    "from transformers import CLIPModel\n",
    "from transformers import CLIPProcessor\n",
    "import time\n",
    "import faiss"
   ]
  },
  {
   "cell_type": "code",
   "execution_count": 4,
   "id": "815c081e",
   "metadata": {},
   "outputs": [
    {
     "data": {
      "text/html": [
       "<div>\n",
       "<style scoped>\n",
       "    .dataframe tbody tr th:only-of-type {\n",
       "        vertical-align: middle;\n",
       "    }\n",
       "\n",
       "    .dataframe tbody tr th {\n",
       "        vertical-align: top;\n",
       "    }\n",
       "\n",
       "    .dataframe thead th {\n",
       "        text-align: right;\n",
       "    }\n",
       "</style>\n",
       "<table border=\"1\" class=\"dataframe\">\n",
       "  <thead>\n",
       "    <tr style=\"text-align: right;\">\n",
       "      <th></th>\n",
       "      <th>id</th>\n",
       "      <th>gender</th>\n",
       "      <th>masterCategory</th>\n",
       "      <th>subCategory</th>\n",
       "      <th>articleType</th>\n",
       "      <th>baseColour</th>\n",
       "      <th>season</th>\n",
       "      <th>year</th>\n",
       "      <th>usage</th>\n",
       "      <th>productDisplayName</th>\n",
       "    </tr>\n",
       "  </thead>\n",
       "  <tbody>\n",
       "    <tr>\n",
       "      <th>0</th>\n",
       "      <td>15970</td>\n",
       "      <td>Men</td>\n",
       "      <td>Apparel</td>\n",
       "      <td>Topwear</td>\n",
       "      <td>Shirts</td>\n",
       "      <td>Navy Blue</td>\n",
       "      <td>Fall</td>\n",
       "      <td>2011.0</td>\n",
       "      <td>Casual</td>\n",
       "      <td>Turtle Check Men Navy Blue Shirt</td>\n",
       "    </tr>\n",
       "    <tr>\n",
       "      <th>1</th>\n",
       "      <td>39386</td>\n",
       "      <td>Men</td>\n",
       "      <td>Apparel</td>\n",
       "      <td>Bottomwear</td>\n",
       "      <td>Jeans</td>\n",
       "      <td>Blue</td>\n",
       "      <td>Summer</td>\n",
       "      <td>2012.0</td>\n",
       "      <td>Casual</td>\n",
       "      <td>Peter England Men Party Blue Jeans</td>\n",
       "    </tr>\n",
       "    <tr>\n",
       "      <th>2</th>\n",
       "      <td>59263</td>\n",
       "      <td>Women</td>\n",
       "      <td>Accessories</td>\n",
       "      <td>Watches</td>\n",
       "      <td>Watches</td>\n",
       "      <td>Silver</td>\n",
       "      <td>Winter</td>\n",
       "      <td>2016.0</td>\n",
       "      <td>Casual</td>\n",
       "      <td>Titan Women Silver Watch</td>\n",
       "    </tr>\n",
       "    <tr>\n",
       "      <th>3</th>\n",
       "      <td>21379</td>\n",
       "      <td>Men</td>\n",
       "      <td>Apparel</td>\n",
       "      <td>Bottomwear</td>\n",
       "      <td>Track Pants</td>\n",
       "      <td>Black</td>\n",
       "      <td>Fall</td>\n",
       "      <td>2011.0</td>\n",
       "      <td>Casual</td>\n",
       "      <td>Manchester United Men Solid Black Track Pants</td>\n",
       "    </tr>\n",
       "    <tr>\n",
       "      <th>4</th>\n",
       "      <td>53759</td>\n",
       "      <td>Men</td>\n",
       "      <td>Apparel</td>\n",
       "      <td>Topwear</td>\n",
       "      <td>Tshirts</td>\n",
       "      <td>Grey</td>\n",
       "      <td>Summer</td>\n",
       "      <td>2012.0</td>\n",
       "      <td>Casual</td>\n",
       "      <td>Puma Men Grey T-shirt</td>\n",
       "    </tr>\n",
       "  </tbody>\n",
       "</table>\n",
       "</div>"
      ],
      "text/plain": [
       "      id gender masterCategory subCategory  articleType baseColour  season  \\\n",
       "0  15970    Men        Apparel     Topwear       Shirts  Navy Blue    Fall   \n",
       "1  39386    Men        Apparel  Bottomwear        Jeans       Blue  Summer   \n",
       "2  59263  Women    Accessories     Watches      Watches     Silver  Winter   \n",
       "3  21379    Men        Apparel  Bottomwear  Track Pants      Black    Fall   \n",
       "4  53759    Men        Apparel     Topwear      Tshirts       Grey  Summer   \n",
       "\n",
       "     year   usage                             productDisplayName  \n",
       "0  2011.0  Casual               Turtle Check Men Navy Blue Shirt  \n",
       "1  2012.0  Casual             Peter England Men Party Blue Jeans  \n",
       "2  2016.0  Casual                       Titan Women Silver Watch  \n",
       "3  2011.0  Casual  Manchester United Men Solid Black Track Pants  \n",
       "4  2012.0  Casual                          Puma Men Grey T-shirt  "
      ]
     },
     "execution_count": 4,
     "metadata": {},
     "output_type": "execute_result"
    }
   ],
   "source": [
    "filename = \"./archive/myntradataset/styles.csv\"\n",
    "df = pd.read_csv(filename, on_bad_lines=\"skip\") #some lines of the dataset fail due to excess commas\n",
    "\n",
    "available_ids = os.listdir(\"./archive/myntradataset/images\")\n",
    "available_ids = [int(x.replace(\".jpg\",\"\")) for x in available_ids]\n",
    "df = df[df.id.isin(available_ids)] #some images are not actually available\n",
    "df=df.dropna(subset='productDisplayName')\n",
    "\n",
    "df.head()\n"
   ]
  },
  {
   "cell_type": "markdown",
   "id": "7d636270",
   "metadata": {},
   "source": [
    "### Data Exploration"
   ]
  },
  {
   "cell_type": "code",
   "execution_count": 5,
   "id": "0fa3eb94",
   "metadata": {},
   "outputs": [
    {
     "name": "stdout",
     "output_type": "stream",
     "text": [
      "masterCategory\n",
      "Apparel           21392\n",
      "Accessories       11272\n",
      "Footwear           9219\n",
      "Personal Care      2398\n",
      "Free Items          105\n",
      "Sporting Goods       25\n",
      "Home                  1\n",
      "Name: count, dtype: int64\n"
     ]
    }
   ],
   "source": [
    "#Find all unique categories from the master category column and the number of time each appears\n",
    "value_counts_master = df['masterCategory'].value_counts()\n",
    "print(value_counts_master)"
   ]
  },
  {
   "cell_type": "code",
   "execution_count": 6,
   "id": "6e87f9ea",
   "metadata": {},
   "outputs": [
    {
     "name": "stdout",
     "output_type": "stream",
     "text": [
      "subCategory\n",
      "Topwear                     15398\n",
      "Shoes                        7343\n",
      "Bags                         3053\n",
      "Bottomwear                   2693\n",
      "Watches                      2542\n",
      "Innerwear                    1808\n",
      "Jewellery                    1079\n",
      "Eyewear                      1073\n",
      "Fragrance                    1006\n",
      "Sandal                        963\n",
      "Wallets                       933\n",
      "Flip Flops                    913\n",
      "Belts                         811\n",
      "Socks                         698\n",
      "Lips                          527\n",
      "Dress                         478\n",
      "Loungewear and Nightwear      470\n",
      "Saree                         427\n",
      "Nails                         329\n",
      "Makeup                        307\n",
      "Headwear                      293\n",
      "Ties                          258\n",
      "Accessories                   129\n",
      "Scarves                       118\n",
      "Cufflinks                     108\n",
      "Apparel Set                   106\n",
      "Free Gifts                    104\n",
      "Stoles                         90\n",
      "Skin Care                      77\n",
      "Skin                           69\n",
      "Eyes                           43\n",
      "Mufflers                       38\n",
      "Shoe Accessories               24\n",
      "Sports Equipment               21\n",
      "Gloves                         20\n",
      "Hair                           19\n",
      "Bath and Body                  12\n",
      "Water Bottle                    7\n",
      "Perfumes                        6\n",
      "Umbrellas                       6\n",
      "Beauty Accessories              4\n",
      "Wristbands                      4\n",
      "Sports Accessories              3\n",
      "Home Furnishing                 1\n",
      "Vouchers                        1\n",
      "Name: count, dtype: int64\n"
     ]
    }
   ],
   "source": [
    "#Find all unique categories from the sub category column and the number of time each appears\n",
    "value_counts_sub = df['subCategory'].value_counts()\n",
    "print(value_counts_sub)"
   ]
  },
  {
   "cell_type": "code",
   "execution_count": 7,
   "id": "0638a697",
   "metadata": {},
   "outputs": [
    {
     "data": {
      "text/plain": [
       "articleType\n",
       "Tshirts                  7066\n",
       "Shirts                   3215\n",
       "Casual Shoes             2845\n",
       "Watches                  2542\n",
       "Sports Shoes             2036\n",
       "Kurtas                   1844\n",
       "Tops                     1762\n",
       "Handbags                 1759\n",
       "Heels                    1323\n",
       "Sunglasses               1073\n",
       "Wallets                   936\n",
       "Flip Flops                914\n",
       "Sandals                   897\n",
       "Briefs                    849\n",
       "Belts                     813\n",
       "Backpacks                 724\n",
       "Socks                     686\n",
       "Formal Shoes              637\n",
       "Jeans                     608\n",
       "Perfume and Body Mist     608\n",
       "Name: count, dtype: int64"
      ]
     },
     "execution_count": 7,
     "metadata": {},
     "output_type": "execute_result"
    }
   ],
   "source": [
    "#Find all unique categories from the article type column and the number of time each appears\n",
    "value_counts_article = df['articleType'].value_counts()\n",
    "value_counts_article.head(20)\n",
    "#value_counts_article.tail(50)"
   ]
  },
  {
   "cell_type": "code",
   "execution_count": 8,
   "id": "735bfa31",
   "metadata": {},
   "outputs": [
    {
     "data": {
      "text/plain": [
       "gender\n",
       "Men       22139\n",
       "Women     18627\n",
       "Unisex     2161\n",
       "Boys        830\n",
       "Girls       655\n",
       "Name: count, dtype: int64"
      ]
     },
     "execution_count": 8,
     "metadata": {},
     "output_type": "execute_result"
    }
   ],
   "source": [
    "#Find all unique categories from the gender column and the number of time each appears\n",
    "value_counts_gender = df['gender'].value_counts()\n",
    "value_counts_gender.head()"
   ]
  },
  {
   "cell_type": "code",
   "execution_count": 9,
   "id": "3c9abaf4",
   "metadata": {},
   "outputs": [
    {
     "name": "stdout",
     "output_type": "stream",
     "text": [
      "['Navy Blue' 'Blue' 'Silver' 'Black' 'Grey' 'Green' 'Purple' 'White'\n",
      " 'Beige' 'Brown' 'Bronze' 'Teal' 'Copper' 'Pink' 'Off White' 'Maroon'\n",
      " 'Red' 'Khaki' 'Orange' 'Coffee Brown' 'Yellow' 'Charcoal' 'Gold' 'Steel'\n",
      " 'Tan' 'Multi' 'Magenta' 'Lavender' 'Sea Green' 'Cream' 'Peach' 'Olive'\n",
      " 'Skin' 'Burgundy' 'Grey Melange' 'Rust' 'Rose' 'Lime Green' 'Mauve'\n",
      " 'Turquoise Blue' 'Metallic' 'Mustard' 'Taupe' 'Nude' 'Mushroom Brown' nan\n",
      " 'Fluorescent Green']\n"
     ]
    },
    {
     "data": {
      "text/plain": [
       "(47,)"
      ]
     },
     "execution_count": 9,
     "metadata": {},
     "output_type": "execute_result"
    }
   ],
   "source": [
    "#List of unique colors in baseColour column\n",
    "unique_values = df['baseColour'].unique()\n",
    "print(unique_values)\n",
    "np.shape(unique_values) #47 colors"
   ]
  },
  {
   "cell_type": "code",
   "execution_count": 10,
   "id": "38140a75",
   "metadata": {},
   "outputs": [
    {
     "data": {
      "text/plain": [
       "baseColour\n",
       "Black    9727\n",
       "White    5538\n",
       "Blue     4917\n",
       "Brown    3493\n",
       "Grey     2741\n",
       "Name: count, dtype: int64"
      ]
     },
     "execution_count": 10,
     "metadata": {},
     "output_type": "execute_result"
    }
   ],
   "source": [
    "#Find all unique categories from the base colour column and the number of time each appears\n",
    "value_counts_color = df['baseColour'].value_counts()\n",
    "value_counts_color.head()"
   ]
  },
  {
   "cell_type": "code",
   "execution_count": 11,
   "id": "9a46a39e",
   "metadata": {},
   "outputs": [
    {
     "data": {
      "text/html": [
       "<div>\n",
       "<style scoped>\n",
       "    .dataframe tbody tr th:only-of-type {\n",
       "        vertical-align: middle;\n",
       "    }\n",
       "\n",
       "    .dataframe tbody tr th {\n",
       "        vertical-align: top;\n",
       "    }\n",
       "\n",
       "    .dataframe thead th {\n",
       "        text-align: right;\n",
       "    }\n",
       "</style>\n",
       "<table border=\"1\" class=\"dataframe\">\n",
       "  <thead>\n",
       "    <tr style=\"text-align: right;\">\n",
       "      <th></th>\n",
       "      <th>id</th>\n",
       "      <th>gender</th>\n",
       "      <th>masterCategory</th>\n",
       "      <th>subCategory</th>\n",
       "      <th>articleType</th>\n",
       "      <th>baseColour</th>\n",
       "      <th>season</th>\n",
       "      <th>year</th>\n",
       "      <th>usage</th>\n",
       "      <th>productDisplayName</th>\n",
       "    </tr>\n",
       "  </thead>\n",
       "  <tbody>\n",
       "    <tr>\n",
       "      <th>0</th>\n",
       "      <td>15970</td>\n",
       "      <td>Men</td>\n",
       "      <td>Apparel</td>\n",
       "      <td>Topwear</td>\n",
       "      <td>Shirts</td>\n",
       "      <td>Navy Blue</td>\n",
       "      <td>Fall</td>\n",
       "      <td>2011.0</td>\n",
       "      <td>Casual</td>\n",
       "      <td>Turtle Check Men Navy Blue Shirt</td>\n",
       "    </tr>\n",
       "    <tr>\n",
       "      <th>6</th>\n",
       "      <td>30805</td>\n",
       "      <td>Men</td>\n",
       "      <td>Apparel</td>\n",
       "      <td>Topwear</td>\n",
       "      <td>Shirts</td>\n",
       "      <td>Green</td>\n",
       "      <td>Summer</td>\n",
       "      <td>2012.0</td>\n",
       "      <td>Ethnic</td>\n",
       "      <td>Fabindia Men Striped Green Shirt</td>\n",
       "    </tr>\n",
       "    <tr>\n",
       "      <th>7</th>\n",
       "      <td>26960</td>\n",
       "      <td>Women</td>\n",
       "      <td>Apparel</td>\n",
       "      <td>Topwear</td>\n",
       "      <td>Shirts</td>\n",
       "      <td>Purple</td>\n",
       "      <td>Summer</td>\n",
       "      <td>2012.0</td>\n",
       "      <td>Casual</td>\n",
       "      <td>Jealous 21 Women Purple Shirt</td>\n",
       "    </tr>\n",
       "    <tr>\n",
       "      <th>15</th>\n",
       "      <td>12369</td>\n",
       "      <td>Men</td>\n",
       "      <td>Apparel</td>\n",
       "      <td>Topwear</td>\n",
       "      <td>Shirts</td>\n",
       "      <td>Purple</td>\n",
       "      <td>Fall</td>\n",
       "      <td>2011.0</td>\n",
       "      <td>Formal</td>\n",
       "      <td>Reid &amp; Taylor Men Check Purple Shirts</td>\n",
       "    </tr>\n",
       "    <tr>\n",
       "      <th>30</th>\n",
       "      <td>37812</td>\n",
       "      <td>Men</td>\n",
       "      <td>Apparel</td>\n",
       "      <td>Topwear</td>\n",
       "      <td>Shirts</td>\n",
       "      <td>Navy Blue</td>\n",
       "      <td>Summer</td>\n",
       "      <td>2012.0</td>\n",
       "      <td>Formal</td>\n",
       "      <td>John Players Men Navy Blue Shirt</td>\n",
       "    </tr>\n",
       "  </tbody>\n",
       "</table>\n",
       "</div>"
      ],
      "text/plain": [
       "       id gender masterCategory subCategory articleType baseColour  season  \\\n",
       "0   15970    Men        Apparel     Topwear      Shirts  Navy Blue    Fall   \n",
       "6   30805    Men        Apparel     Topwear      Shirts      Green  Summer   \n",
       "7   26960  Women        Apparel     Topwear      Shirts     Purple  Summer   \n",
       "15  12369    Men        Apparel     Topwear      Shirts     Purple    Fall   \n",
       "30  37812    Men        Apparel     Topwear      Shirts  Navy Blue  Summer   \n",
       "\n",
       "      year   usage                     productDisplayName  \n",
       "0   2011.0  Casual       Turtle Check Men Navy Blue Shirt  \n",
       "6   2012.0  Ethnic       Fabindia Men Striped Green Shirt  \n",
       "7   2012.0  Casual          Jealous 21 Women Purple Shirt  \n",
       "15  2011.0  Formal  Reid & Taylor Men Check Purple Shirts  \n",
       "30  2012.0  Formal       John Players Men Navy Blue Shirt  "
      ]
     },
     "execution_count": 11,
     "metadata": {},
     "output_type": "execute_result"
    }
   ],
   "source": [
    "shirts = df.loc[df['articleType'] == 'Shirts']\n",
    "np.shape(shirts)\n",
    "shirts.head()"
   ]
  },
  {
   "cell_type": "code",
   "execution_count": 12,
   "id": "25b349a0",
   "metadata": {},
   "outputs": [
    {
     "data": {
      "text/plain": [
       "(0, 10)"
      ]
     },
     "execution_count": 12,
     "metadata": {},
     "output_type": "execute_result"
    }
   ],
   "source": [
    "#Sort by red and shirt\n",
    "red_shirts = df.loc[(df['articleType'] == 'Shirts') & (df['baseColour'] == 'Red')]\n",
    "red_shirts.head()\n",
    "#np.shape(red_shirts) #270\n",
    "\n",
    "#Sort by purple and jacket\n",
    "purple_jacket = df.loc[(df['articleType'] == 'Jacket') & (df['baseColour'] == 'Purple')]\n",
    "np.shape(purple_jacket) #10"
   ]
  },
  {
   "cell_type": "code",
   "execution_count": 17,
   "id": "8a36bd92",
   "metadata": {},
   "outputs": [
    {
     "data": {
      "text/html": [
       "<div>\n",
       "<style scoped>\n",
       "    .dataframe tbody tr th:only-of-type {\n",
       "        vertical-align: middle;\n",
       "    }\n",
       "\n",
       "    .dataframe tbody tr th {\n",
       "        vertical-align: top;\n",
       "    }\n",
       "\n",
       "    .dataframe thead th {\n",
       "        text-align: right;\n",
       "    }\n",
       "</style>\n",
       "<table border=\"1\" class=\"dataframe\">\n",
       "  <thead>\n",
       "    <tr style=\"text-align: right;\">\n",
       "      <th></th>\n",
       "      <th>id</th>\n",
       "      <th>gender</th>\n",
       "      <th>masterCategory</th>\n",
       "      <th>subCategory</th>\n",
       "      <th>articleType</th>\n",
       "      <th>baseColour</th>\n",
       "      <th>season</th>\n",
       "      <th>year</th>\n",
       "      <th>usage</th>\n",
       "      <th>productDisplayName</th>\n",
       "    </tr>\n",
       "  </thead>\n",
       "  <tbody>\n",
       "    <tr>\n",
       "      <th>14794</th>\n",
       "      <td>20938</td>\n",
       "      <td>Men</td>\n",
       "      <td>Accessories</td>\n",
       "      <td>Bags</td>\n",
       "      <td>Backpacks</td>\n",
       "      <td>Black</td>\n",
       "      <td>Winter</td>\n",
       "      <td>2016.0</td>\n",
       "      <td>Casual</td>\n",
       "      <td>Fastrack Men Leatherette Black Backpack</td>\n",
       "    </tr>\n",
       "    <tr>\n",
       "      <th>28213</th>\n",
       "      <td>25206</td>\n",
       "      <td>Women</td>\n",
       "      <td>Accessories</td>\n",
       "      <td>Bags</td>\n",
       "      <td>Backpacks</td>\n",
       "      <td>Beige</td>\n",
       "      <td>Winter</td>\n",
       "      <td>2015.0</td>\n",
       "      <td>Casual</td>\n",
       "      <td>Lino Perros Women Leatherite Beige Backpack</td>\n",
       "    </tr>\n",
       "  </tbody>\n",
       "</table>\n",
       "</div>"
      ],
      "text/plain": [
       "          id gender masterCategory subCategory articleType baseColour  season  \\\n",
       "14794  20938    Men    Accessories        Bags   Backpacks      Black  Winter   \n",
       "28213  25206  Women    Accessories        Bags   Backpacks      Beige  Winter   \n",
       "\n",
       "         year   usage                           productDisplayName  \n",
       "14794  2016.0  Casual      Fastrack Men Leatherette Black Backpack  \n",
       "28213  2015.0  Casual  Lino Perros Women Leatherite Beige Backpack  "
      ]
     },
     "execution_count": 17,
     "metadata": {},
     "output_type": "execute_result"
    }
   ],
   "source": [
    "#Search of leather packbacks\n",
    "search_string = \"leather\"\n",
    "result = df[df.apply(lambda row: row.astype(str).str.contains(search_string, case=False).any(), axis=1)]\n",
    "result[result['articleType'] == 'Backpacks'] #only 2 products"
   ]
  },
  {
   "cell_type": "code",
   "execution_count": null,
   "id": "a3968105",
   "metadata": {},
   "outputs": [],
   "source": []
  }
 ],
 "metadata": {
  "kernelspec": {
   "display_name": "Python 3 (ipykernel)",
   "language": "python",
   "name": "python3"
  },
  "language_info": {
   "codemirror_mode": {
    "name": "ipython",
    "version": 3
   },
   "file_extension": ".py",
   "mimetype": "text/x-python",
   "name": "python",
   "nbconvert_exporter": "python",
   "pygments_lexer": "ipython3",
   "version": "3.10.12"
  }
 },
 "nbformat": 4,
 "nbformat_minor": 5
}
